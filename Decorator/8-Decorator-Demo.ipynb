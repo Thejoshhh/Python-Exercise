{
 "cells": [
  {
   "cell_type": "code",
   "execution_count": 1,
   "id": "37464670",
   "metadata": {},
   "outputs": [
    {
     "name": "stdout",
     "output_type": "stream",
     "text": [
      "--> Running sleeper_func\n",
      "sleeping for 2\n",
      "--> sleeper_func ran in 2.000244 seconds\n"
     ]
    },
    {
     "data": {
      "text/plain": [
       "'Woke up!'"
      ]
     },
     "execution_count": 1,
     "metadata": {},
     "output_type": "execute_result"
    }
   ],
   "source": [
    "import time\n",
    "from functools import wraps\n",
    "\n",
    "# Define the decorator\n",
    "def time_this(func):\n",
    "    @wraps(func)  # Preserve metadata of the original function\n",
    "    def wrapper(*args, **kwargs):\n",
    "        print(f\"--> Running {func.__name__}\")\n",
    "        start_time = time.time()  # Record start time\n",
    "        result = func(*args, **kwargs)  # Run the original function\n",
    "        end_time = time.time()  # Record end time\n",
    "        print(f\"--> {func.__name__} ran in {end_time - start_time:.6f} seconds\")\n",
    "        return result  # Return the result of the original function\n",
    "    return wrapper\n",
    "\n",
    "# Example usage\n",
    "@time_this\n",
    "def sleeper_func(sleeptime):\n",
    "    from time import sleep\n",
    "    print(f\"sleeping for {sleeptime}\")\n",
    "    sleep(sleeptime)\n",
    "    return \"Woke up!\"\n",
    "\n",
    "# Call the function\n",
    "sleeper_func(2)\n"
   ]
  },
  {
   "cell_type": "code",
   "execution_count": 1,
   "id": "6af9bc06",
   "metadata": {},
   "outputs": [
    {
     "name": "stderr",
     "output_type": "stream",
     "text": [
      "C:\\Users\\joshua.reji\\AppData\\Local\\anaconda3\\Lib\\site-packages\\urllib3\\connectionpool.py:1056: InsecureRequestWarning: Unverified HTTPS request is being made to host 'random-word-api.herokuapp.com'. Adding certificate verification is strongly advised. See: https://urllib3.readthedocs.io/en/1.26.x/advanced-usage.html#ssl-warnings\n",
      "  warnings.warn(\n"
     ]
    },
    {
     "name": "stdout",
     "output_type": "stream",
     "text": [
      "Error: 503\n",
      "Failed to retrieve the word.\n"
     ]
    }
   ],
   "source": []
  },
  {
   "cell_type": "code",
   "execution_count": null,
   "id": "b0f217a1",
   "metadata": {},
   "outputs": [],
   "source": []
  }
 ],
 "metadata": {
  "kernelspec": {
   "display_name": "Python 3 (ipykernel)",
   "language": "python",
   "name": "python3"
  },
  "language_info": {
   "codemirror_mode": {
    "name": "ipython",
    "version": 3
   },
   "file_extension": ".py",
   "mimetype": "text/x-python",
   "name": "python",
   "nbconvert_exporter": "python",
   "pygments_lexer": "ipython3",
   "version": "3.11.5"
  }
 },
 "nbformat": 4,
 "nbformat_minor": 5
}
