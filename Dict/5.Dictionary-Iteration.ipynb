{
 "cells": [
  {
   "cell_type": "code",
   "execution_count": 1,
   "id": "712a99f9",
   "metadata": {},
   "outputs": [
    {
     "name": "stdout",
     "output_type": "stream",
     "text": [
      "{'A': 65, 'B': 66, 'C': 67, 'D': 68}\n"
     ]
    }
   ],
   "source": [
    "ascii_dict = {'A': 65, 'B': 66, 'C': 67, 'D': 68}\n",
    "\n",
    "print(ascii_dict)"
   ]
  },
  {
   "cell_type": "code",
   "execution_count": 2,
   "id": "5b469186",
   "metadata": {},
   "outputs": [
    {
     "name": "stdout",
     "output_type": "stream",
     "text": [
      "{65: 'A', 66: 'B', 67: 'C', 68: 'D'}\n"
     ]
    }
   ],
   "source": [
    "ascii_dict = {'A': 65, 'B': 66, 'C': 67, 'D': 68}\n",
    "reversed_dict = {value: key for key, value in ascii_dict.items()}\n",
    "\n",
    "print(reversed_dict)\n"
   ]
  },
  {
   "cell_type": "code",
   "execution_count": null,
   "id": "2d9878d4",
   "metadata": {},
   "outputs": [],
   "source": []
  }
 ],
 "metadata": {
  "kernelspec": {
   "display_name": "Python 3 (ipykernel)",
   "language": "python",
   "name": "python3"
  },
  "language_info": {
   "codemirror_mode": {
    "name": "ipython",
    "version": 3
   },
   "file_extension": ".py",
   "mimetype": "text/x-python",
   "name": "python",
   "nbconvert_exporter": "python",
   "pygments_lexer": "ipython3",
   "version": "3.11.5"
  }
 },
 "nbformat": 4,
 "nbformat_minor": 5
}
