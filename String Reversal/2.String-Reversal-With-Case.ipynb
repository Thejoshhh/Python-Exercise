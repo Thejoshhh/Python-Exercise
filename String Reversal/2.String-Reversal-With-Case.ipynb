{
 "cells": [
  {
   "cell_type": "code",
   "execution_count": 1,
   "id": "f34f5887",
   "metadata": {},
   "outputs": [
    {
     "name": "stdout",
     "output_type": "stream",
     "text": [
      "nohtyP si emosewA\n"
     ]
    }
   ],
   "source": [
    "s ='Python is Awesome'\n",
    "rs = ' '.join(word[::-1] for word in s.split())\n",
    "print(rs)"
   ]
  },
  {
   "cell_type": "code",
   "execution_count": 6,
   "id": "e2792766",
   "metadata": {},
   "outputs": [
    {
     "name": "stdout",
     "output_type": "stream",
     "text": [
      "Nohtyp si Emosewa\n"
     ]
    }
   ],
   "source": [
    "def rword(word):\n",
    "    rchar = list(word[::-1])\n",
    "    return ''.join(\n",
    "        rchar[i].upper() if char.isupper() else rchar[i].lower()\n",
    "        for i, char in enumerate(word)\n",
    "    )\n",
    "\n",
    "def rsentence(sentence):\n",
    "    return ' '.join(rword(word) for word in sentence.split())\n",
    "\n",
    "s = \"Python is Awesome\"\n",
    "\n",
    "rs = rsentence(s)\n",
    "print(rs)\n"
   ]
  },
  {
   "cell_type": "code",
   "execution_count": null,
   "id": "4d721c67",
   "metadata": {},
   "outputs": [],
   "source": []
  }
 ],
 "metadata": {
  "kernelspec": {
   "display_name": "Python 3 (ipykernel)",
   "language": "python",
   "name": "python3"
  },
  "language_info": {
   "codemirror_mode": {
    "name": "ipython",
    "version": 3
   },
   "file_extension": ".py",
   "mimetype": "text/x-python",
   "name": "python",
   "nbconvert_exporter": "python",
   "pygments_lexer": "ipython3",
   "version": "3.11.5"
  }
 },
 "nbformat": 4,
 "nbformat_minor": 5
}
