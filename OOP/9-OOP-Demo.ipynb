{
 "cells": [
  {
   "cell_type": "code",
   "execution_count": 21,
   "id": "7d90eda0",
   "metadata": {},
   "outputs": [
    {
     "name": "stdout",
     "output_type": "stream",
     "text": [
      "Base: 12\n",
      "Height: 8\n",
      "Area: 48.0\n",
      "Perimeter: 23\n"
     ]
    }
   ],
   "source": [
    "class Triangle:\n",
    "    def __init__(self, base, height, side_a, side_b, side_c):\n",
    "        self._base = base  \n",
    "        self._height = height  \n",
    "        self._side_a = side_a  \n",
    "        self._side_b = side_b  \n",
    "        self._side_c = side_c  \n",
    "        \n",
    "    @property\n",
    "    def base(self):\n",
    "        return self._base\n",
    "    \n",
    "    @property\n",
    "    def height(self):\n",
    "        return self._height\n",
    "    \n",
    "    @property\n",
    "    def area(self):\n",
    "        return 0.5 * self._base * self._height\n",
    "    \n",
    "    @property\n",
    "    def perimeter(self):\n",
    "        return self._side_a + self._side_b + self._side_c\n",
    "\n",
    "\n",
    "triangle = Triangle(12, 8, 5, 10, 8)\n",
    "\n",
    "print(f\"Base: {triangle.base}\")\n",
    "print(f\"Height: {triangle.height}\")\n",
    "print(f\"Area: {triangle.area}\")  \n",
    "print(f\"Perimeter: {triangle.perimeter}\") \n",
    "\n"
   ]
  },
  {
   "cell_type": "code",
   "execution_count": null,
   "id": "760b9781",
   "metadata": {},
   "outputs": [],
   "source": []
  }
 ],
 "metadata": {
  "kernelspec": {
   "display_name": "Python 3 (ipykernel)",
   "language": "python",
   "name": "python3"
  },
  "language_info": {
   "codemirror_mode": {
    "name": "ipython",
    "version": 3
   },
   "file_extension": ".py",
   "mimetype": "text/x-python",
   "name": "python",
   "nbconvert_exporter": "python",
   "pygments_lexer": "ipython3",
   "version": "3.11.5"
  }
 },
 "nbformat": 4,
 "nbformat_minor": 5
}
